{
  "nbformat": 4,
  "nbformat_minor": 0,
  "metadata": {
    "colab": {
      "provenance": [],
      "include_colab_link": true
    },
    "kernelspec": {
      "name": "python3",
      "display_name": "Python 3"
    },
    "language_info": {
      "name": "python"
    }
  },
  "cells": [
    {
      "cell_type": "markdown",
      "metadata": {
        "id": "view-in-github",
        "colab_type": "text"
      },
      "source": [
        "<a href=\"https://colab.research.google.com/github/michellenivar/correlation_one/blob/main/Benn_Koleske_Mukherjee_Nivar_Lab_2.ipynb\" target=\"_parent\"><img src=\"https://colab.research.google.com/assets/colab-badge.svg\" alt=\"Open In Colab\"/></a>"
      ]
    },
    {
      "cell_type": "markdown",
      "source": [
        "# Make a copy of this notebook before you start.\n",
        "\n",
        "File >> Save a Copy in Drive"
      ],
      "metadata": {
        "id": "mCouJqMG00Pc"
      }
    },
    {
      "cell_type": "markdown",
      "source": [
        "Record your names:\n",
        ">> Ashley Croker–Benn, Emily Koleske, Sohini Mukherjee, Michelle Nivar\n"
      ],
      "metadata": {
        "id": "7x8En0p901cw"
      }
    },
    {
      "cell_type": "code",
      "source": [
        "## RUN THIS CELL to import 'numpy'\n",
        "\n",
        "import numpy as np"
      ],
      "metadata": {
        "id": "ixbU7mM20n_q"
      },
      "execution_count": 1,
      "outputs": []
    },
    {
      "cell_type": "markdown",
      "metadata": {
        "id": "RVb7LoUhfIAw"
      },
      "source": [
        "## Run the cell below to load `mycurvefit()`. \n",
        "\n",
        "Don't worry about the code inside the black box! You just need to know how to *call* it (what inputs to give the box) and what outputs it will return!\n",
        "\n",
        "## Curve Fitting Black Box\n",
        "The code cell below contains the `mycurvefit` function that you were given in lab.\n",
        "\n",
        "`fitparam, fiterr = mycurvefit(model_function, x_data, y_data, y_errors)`\n",
        "\n",
        "\n"
      ]
    },
    {
      "cell_type": "code",
      "metadata": {
        "id": "3uFy4LeM5YWa"
      },
      "source": [
        "#Just RUN the code in this cell and jump down to \"Activity 3\"\n",
        "#You can also hide this section (after running this cell) by clickling the triangle symbol next to \"Run the cell below\"\n",
        "import matplotlib.pyplot as plt\n",
        "from scipy.optimize import curve_fit\n",
        "from scipy.io import loadmat\n",
        "from google.colab import files\n",
        "\n",
        "def round_sig(x, sig=2):\n",
        "  if np.isinf(x):\n",
        "    return x\n",
        "  else:\n",
        "    return round(x, sig-int(np.floor(np.log10(np.abs(x))))-1)\n",
        "\n",
        "def mycurvefit(func,XX,YY,UNCERT,xlabel=None,ylabel=None,p0=None):\n",
        "    '''\n",
        "    Fits data (XX, YY, UNCERT) to function using scipy.curvefit, and then plots data and best fit\n",
        "        Parameters\n",
        "    ----------\n",
        "    func : user-defined function\n",
        "            Model to be used to fit data\n",
        "                \n",
        "    XX : numpy array\n",
        "            1D vector of data's independent variable\n",
        "    \n",
        "    YY : numpy array \n",
        "            1D vector of data's dependent variable\n",
        "            \n",
        "    UNCERT : numpy array\n",
        "            1D vector of uncertainty in YY\n",
        "            \n",
        "    xlabel: string\n",
        "            label for plot's x-axis\n",
        "            \n",
        "    ylabel : string\n",
        "            label for plot's y-axis\n",
        "    \n",
        "    Returns\n",
        "    -------\n",
        "    fitparams : numpy array\n",
        "           1D array of best fit values of parameters\n",
        "       \n",
        "    fiterrs : numpy array\n",
        "            1D array of errors on best fit parameters (taken from sqrt of diag of covariance matrix)\n",
        "    \n",
        "    fig : figure handle\n",
        "    \n",
        "    ax : axes handle\n",
        "    \n",
        "    '''\n",
        "    \n",
        "\n",
        "    def chisquare(data,model,uncertainty):\n",
        "        '''\n",
        "        Calculates value of chi squared for model given data and unvertainty\n",
        "        \n",
        "        Parameters\n",
        "        ----------\n",
        "        data : numpy array\n",
        "                1D vector of data values\n",
        "                    \n",
        "        model : numpy array\n",
        "                1D vector of values predicted by model\n",
        "        \n",
        "        uncertainty : numpy array\n",
        "                1D vector of uncertainty corresponding to data\n",
        "        \n",
        "        Returns\n",
        "        -------\n",
        "        x2 : float\n",
        "          Returns value of chi squared for this model given data and uncertainty\n",
        "        '''\n",
        "\n",
        "        x2 = np.sum((data-model)**2/uncertainty**2)\n",
        "        \n",
        "        return x2\n",
        "\n",
        "    ##################################################\n",
        "    #                Do the curve fit                #\n",
        "    ##################################################     \n",
        "    \n",
        "    \n",
        "    # To get curve_fit to use UNCERT, set absolute_sigma = True.  Otherwise sigma = 1\n",
        "    fitparams,pcov = curve_fit(func,XX,YY,sigma = UNCERT,absolute_sigma=True, p0=p0)\n",
        "\n",
        "    # Find error in each parameter.  Assumes covariance matrix is roughly diagonal.\n",
        "    fiterrs = np.sqrt(np.diag(pcov))\n",
        "\n",
        "    # print out the parameters and errors on them \n",
        "    print('Best Fit Parameters:\\n')\n",
        "    i = 0\n",
        "    for A,sigA in zip(fitparams, fiterrs):\n",
        "        i = i + 1\n",
        "        mystring = '\\t P' + str(i) + ' = '\n",
        "        round_prec = np.floor(np.log10(sigA))\n",
        "        if np.isinf(round_prec):\n",
        "          round_prec = 3\n",
        "        else:\n",
        "          round_prec = -int(round_prec)\n",
        "\n",
        "        print(mystring,round(A,round_prec),'+/-',round_sig(sigA,1))\n",
        "        \n",
        "    \n",
        "    \n",
        "    ##################################################\n",
        "    #                Begin Plotting                  #\n",
        "    ##################################################\n",
        "    \n",
        "    fig,ax = plt.subplots()\n",
        "    # plot the raw data\n",
        "    ax.errorbar(XX,YY,UNCERT,fmt='.',label='data',zorder=0)\n",
        "    \n",
        "    \n",
        "    # plot the fit\n",
        "    XX_shade = np.linspace(min(XX),max(XX),100)\n",
        "    ax.plot(XX_shade,func(XX_shade,*fitparams),label = 'best fit',zorder=1)\n",
        "    \n",
        "    if xlabel == None:\n",
        "      xlabel = ''\n",
        "    if ylabel == None:\n",
        "      ylabel = ''\n",
        "\n",
        "    # make the plot nice\n",
        "    ax.set_xlabel(xlabel)\n",
        "    ax.set_ylabel(ylabel)\n",
        "    plt.legend()\n",
        "    \n",
        "    \n",
        "    \n",
        "    ##################################################\n",
        "    #    Calculate and display the fit metrics       #\n",
        "    ##################################################\n",
        "    \n",
        "    # calculate the number of degrees of freedom\n",
        "    shape = np.shape(XX)\n",
        "    dof = shape[0] - len(fitparams)\n",
        "    \n",
        "    print('\\n Fit Metrics:\\n')\n",
        "    print('\\t Degrees of freedom (N-d): ', dof)\n",
        "    \n",
        "    X2 = chisquare(YY,func(XX,*fitparams),UNCERT)\n",
        "    #X2string = '\\t Chi Squared = ' + str(round(X2,1))\n",
        "    X2redstring = '\\t Reduced Chi Squared = '+ str(round_sig(X2/dof,4))\n",
        "    #print(X2string)\n",
        "    print(X2redstring)\n",
        "\n",
        "    \n",
        "    return fitparams,fiterrs"
      ],
      "execution_count": 2,
      "outputs": []
    },
    {
      "cell_type": "markdown",
      "source": [
        "# Activity 3\n",
        "\n",
        "Record your measurements of the resistance of the wire for different lengths. Choose up to 5 lengths.\n",
        "\n",
        "Hint: remember units!"
      ],
      "metadata": {
        "id": "l8DeKR5jGMgg"
      }
    },
    {
      "cell_type": "code",
      "source": [
        "#Record your measurements here!\n",
        "\n",
        "resistance = np.array([0.5,0.6,0.7,0.8,0.9,1.0]) #Ohms\n",
        "length = np.array([0.1,0.15,0.2,0.25,0.3,0.35]) #m"
      ],
      "metadata": {
        "id": "kqlGP8bwGZB1"
      },
      "execution_count": 3,
      "outputs": []
    },
    {
      "cell_type": "markdown",
      "source": [
        "Remember! All measurements need error. What error value would you assign to your resistance values, read from the multimeter?\n",
        "\n",
        ">> Our resistance values have error that we must factor in because the voltmeter measured our resistance at 200 ohms, with a certainty to the tenth decimal place. Our error then, must be in the hundredths place.\n",
        "\n",
        "Record that value below.\n",
        "+/- 0.01"
      ],
      "metadata": {
        "id": "ZUdEZV5hzVj1"
      }
    },
    {
      "cell_type": "code",
      "source": [
        "multimeter_error = 0.01 #Ohms\n",
        "\n",
        "#Here we take the single-value reported for the error and\n",
        "#create an array the same size as 'resistance'\n",
        "\n",
        "resistance_error = np.ones(len(resistance))*multimeter_error #Ohms"
      ],
      "metadata": {
        "id": "0L7ezoIjNosE"
      },
      "execution_count": 4,
      "outputs": []
    },
    {
      "cell_type": "markdown",
      "source": [
        "How are the resistance and length of the wire related?\n",
        "\n",
        ">> The resistance and length of the wire are directly related.\n",
        "\n",
        "Write a model for the *resistance* as a function of length:\n",
        "\n",
        ">> \n",
        "\n",
        "Are there any values we must calculate? Can we calculate them? \n",
        "\n",
        ">> answer\n",
        "\n",
        "Now convert that model into a code function below: "
      ],
      "metadata": {
        "id": "KH9yco1vNt2v"
      }
    },
    {
      "cell_type": "code",
      "source": [
        "def resistance_model(L, P1,P2):\n",
        "\n",
        "  #write your model below\n",
        "\n",
        "  R = P1*L + P2\n",
        "\n",
        "  return R"
      ],
      "metadata": {
        "id": "Q6t6kt4MzwZu"
      },
      "execution_count": 13,
      "outputs": []
    },
    {
      "cell_type": "markdown",
      "metadata": {
        "id": "5QZpeaAy-lGg"
      },
      "source": [
        "Now that we have a model we can do the fitting!\n",
        "\n",
        "We've defined a curve fitting function for you, called `mycurvefit`. To use it, input the `modelname`, `xdata`, `ydata`, and `yerror`. \n",
        "\n",
        "\n",
        "E.g. replace `modelname` with `resistance_model` below.\n",
        "\n",
        "What are our `xdata` and `ydata`? \n",
        "\n",
        "What about the `error`?\n",
        "\n",
        "\n"
      ]
    },
    {
      "cell_type": "code",
      "source": [
        "mycurvefit(resistance_model, length, resistance, resistance_error)"
      ],
      "metadata": {
        "id": "4PNhFeJwz0sr",
        "colab": {
          "base_uri": "https://localhost:8080/",
          "height": 435
        },
        "outputId": "f46d7b00-5276-4669-c75c-09fe50f5aa52"
      },
      "execution_count": 14,
      "outputs": [
        {
          "output_type": "stream",
          "name": "stdout",
          "text": [
            "Best Fit Parameters:\n",
            "\n",
            "\t P1 =  2.0 +/- 0.05\n",
            "\t P2 =  0.3 +/- 0.01\n",
            "\n",
            " Fit Metrics:\n",
            "\n",
            "\t Degrees of freedom (N-d):  4\n",
            "\t Reduced Chi Squared = 3.0810000000000006e-29\n"
          ]
        },
        {
          "output_type": "execute_result",
          "data": {
            "text/plain": [
              "(array([2. , 0.3]), array([0.04780915, 0.01150569]))"
            ]
          },
          "metadata": {},
          "execution_count": 14
        },
        {
          "output_type": "display_data",
          "data": {
            "text/plain": [
              "<Figure size 432x288 with 1 Axes>"
            ],
            "image/png": "[encoded data removed]"
          },
          "metadata": {
            "needs_background": "light"
          }
        }
      ]
    },
    {
      "cell_type": "markdown",
      "metadata": {
        "id": "hzyYFIxqwcHQ"
      },
      "source": [
        "Does the fit look good? If not, call over a TF.\n",
        "\n",
        "What does `P1` and `P2` refer to? Talk to a TF if you're unsure. \n",
        "\n",
        ">> P1 refers to resistivity divided by the area of the wire. P2 refers to internal resistance of the voltmeter.\n",
        "\n",
        "What is the fit value of the resistivity of the wire?\n",
        "\n",
        ">> The fit value of the resistivity of the wire is 1 x 10^(-6) ohms times meters.\n",
        "\n",
        "Now return to the Google doc to determine the wire material!\n"
      ]
    },
    {
      "cell_type": "code",
      "source": [],
      "metadata": {
        "id": "h2pDVdz12wQE"
      },
      "execution_count": null,
      "outputs": []
    }
  ]
}